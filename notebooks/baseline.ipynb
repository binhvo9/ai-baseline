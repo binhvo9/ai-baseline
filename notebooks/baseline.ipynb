{
 "cells": [
  {
   "cell_type": "code",
   "execution_count": 1,
   "id": "4811f0e2-2e4d-4383-adbd-bec5416c9ab4",
   "metadata": {},
   "outputs": [
    {
     "name": "stdout",
     "output_type": "stream",
     "text": [
      "Accuracy: 0.8341463414634146\n",
      "F1 Score: 0.8508771929824561\n",
      "Confusion Matrix:\n",
      " [[74 26]\n",
      " [ 8 97]]\n"
     ]
    }
   ],
   "source": [
    "# notebooks/baseline.ipynb  — Baseline đơn giản\n",
    "\n",
    "import pandas as pd\n",
    "from sklearn.model_selection import train_test_split\n",
    "from sklearn.linear_model import LogisticRegression\n",
    "from sklearn.metrics import accuracy_score, f1_score, confusion_matrix\n",
    "\n",
    "# 1) Đọc dữ liệu (bảng)\n",
    "df = pd.read_csv(\"../data/heart.csv\")\n",
    "\n",
    "# 2) Tách \"đề bài\" và \"đáp án\"\n",
    "#   X = các cột dùng để đoán\n",
    "#   y = cột target (0/1)\n",
    "X = df.drop(\"target\", axis=1)\n",
    "y = df[\"target\"]\n",
    "\n",
    "# 3) Chia dữ liệu: 80% để học, 20% để kiểm tra\n",
    "X_train, X_test, y_train, y_test = train_test_split(\n",
    "    X, y, test_size=0.20, random_state=42, stratify=y\n",
    ")\n",
    "\n",
    "# 4) Tạo model \"Logistic Regression\" (máy đoán 0/1)\n",
    "model = LogisticRegression(max_iter=1000, solver=\"liblinear\")\n",
    "model.fit(X_train, y_train)   # cho máy học\n",
    "\n",
    "# 5) Cho máy đoán bộ kiểm tra\n",
    "y_pred = model.predict(X_test)\n",
    "\n",
    "# 6) Chấm điểm: Accuracy & F1 (2 điểm số dễ hiểu)\n",
    "print(\"Accuracy:\", accuracy_score(y_test, y_pred))\n",
    "print(\"F1 Score:\", f1_score(y_test, y_pred))\n",
    "\n",
    "# 7) Bảng đúng/sai (Confusion Matrix)\n",
    "print(\"Confusion Matrix:\\n\", confusion_matrix(y_test, y_pred))\n"
   ]
  },
  {
   "cell_type": "code",
   "execution_count": 2,
   "id": "a3cd9dfe-5f3f-46d2-832d-5f7852586192",
   "metadata": {},
   "outputs": [
    {
     "name": "stdout",
     "output_type": "stream",
     "text": [
      "Saved metrics to results/metrics.json\n"
     ]
    }
   ],
   "source": [
    "import json\n",
    "metrics = {\n",
    "    \"accuracy\": accuracy_score(y_test, y_pred),\n",
    "    \"f1\": f1_score(y_test, y_pred)\n",
    "}\n",
    "with open(\"../results/metrics.json\", \"w\") as f:\n",
    "    json.dump(metrics, f, indent=4)\n",
    "\n",
    "print(\"Saved metrics to results/metrics.json\")"
   ]
  },
  {
   "cell_type": "code",
   "execution_count": null,
   "id": "0a11d92d-ac4b-4c68-9892-fb290eb7aaa0",
   "metadata": {},
   "outputs": [],
   "source": []
  }
 ],
 "metadata": {
  "kernelspec": {
   "display_name": "Python 3 (ipykernel)",
   "language": "python",
   "name": "python3"
  },
  "language_info": {
   "codemirror_mode": {
    "name": "ipython",
    "version": 3
   },
   "file_extension": ".py",
   "mimetype": "text/x-python",
   "name": "python",
   "nbconvert_exporter": "python",
   "pygments_lexer": "ipython3",
   "version": "3.9.6"
  }
 },
 "nbformat": 4,
 "nbformat_minor": 5
}
